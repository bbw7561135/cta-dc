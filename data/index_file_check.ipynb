{
 "cells": [
  {
   "cell_type": "markdown",
   "metadata": {},
   "source": [
    "# Index file check\n",
    "\n",
    "This is a quick look at the first and last few rows in some of the index files, to check if all values seem OK.\n",
    "\n",
    "Let's look at \"agn\" as one example ..."
   ]
  },
  {
   "cell_type": "code",
   "execution_count": 1,
   "metadata": {},
   "outputs": [],
   "source": [
    "import numpy as np\n",
    "import astropy.units as u\n",
    "from gammapy.data import DataStore"
   ]
  },
  {
   "cell_type": "code",
   "execution_count": 2,
   "metadata": {},
   "outputs": [],
   "source": [
    "ds = DataStore.from_dir('1dc/1dc/index/agn')"
   ]
  },
  {
   "cell_type": "code",
   "execution_count": 3,
   "metadata": {},
   "outputs": [
    {
     "name": "stdout",
     "output_type": "stream",
     "text": [
      "<ObservationTable length=1920>\n",
      "      name       dtype \n",
      "--------------- -------\n",
      "         OBS_ID   int64\n",
      "         RA_PNT float64\n",
      "        DEC_PNT float64\n",
      "       GLON_PNT float64\n",
      "       GLAT_PNT float64\n",
      "        ZEN_PNT float64\n",
      "        ALT_PNT float64\n",
      "         AZ_PNT   int64\n",
      "         ONTIME float64\n",
      "       LIVETIME float64\n",
      "          DEADC float64\n",
      "         TSTART float64\n",
      "          TSTOP float64\n",
      "       DATE_OBS   str10\n",
      "       TIME_OBS    str8\n",
      "       DATE_END   str10\n",
      "       TIME_END    str8\n",
      "         N_TELS   int64\n",
      "         OBJECT   str14\n",
      "          CALDB    str3\n",
      "            IRF   str13\n",
      "EVENTS_FILENAME   str50\n",
      "    EVENT_COUNT   int64\n"
     ]
    }
   ],
   "source": [
    "ds.obs_table.info()"
   ]
  },
  {
   "cell_type": "code",
   "execution_count": 4,
   "metadata": {},
   "outputs": [
    {
     "name": "stdout",
     "output_type": "stream",
     "text": [
      "<ObservationTable length=1920>\n",
      "      name           mean            std             min           max     \n",
      "--------------- ------------- ----------------- ------------- -------------\n",
      "         OBS_ID      510959.5     554.256183246        510000        511919\n",
      "         RA_PNT 176.142887379     96.1833488986  1.9469000101  356.26071167\n",
      "        DEC_PNT 19.2987040441     27.9481261874      -17.3806   75.57460022\n",
      "       GLON_PNT 153.167896435     98.9692443233 2.37542045991 351.290560535\n",
      "       GLAT_PNT 21.9062138121     44.9647316086  -72.38125429 84.9571427298\n",
      "        ZEN_PNT           0.0               0.0           0.0           0.0\n",
      "        ALT_PNT          90.0               0.0          90.0          90.0\n",
      "         AZ_PNT           0.0               0.0             0             0\n",
      "         ONTIME        1800.0               0.0        1800.0        1800.0\n",
      "       LIVETIME        1764.0               0.0        1764.0        1764.0\n",
      "          DEADC 0.98000001907 2.22044604925e-16 0.98000001907 0.98000001907\n",
      "         TSTART   686686080.0     13966172.8015   662774400.0   710597760.0\n",
      "          TSTOP   686687872.0     13966172.8015   662776192.0   710599552.0\n",
      "       DATE_OBS            --                --            --            --\n",
      "       TIME_OBS            --                --            --            --\n",
      "       DATE_END            --                --            --            --\n",
      "       TIME_END            --                --            --            --\n",
      "         N_TELS           0.0               0.0             0             0\n",
      "         OBJECT            --                --            --            --\n",
      "          CALDB            --                --            --            --\n",
      "            IRF            --                --            --            --\n",
      "EVENTS_FILENAME            --                --            --            --\n",
      "    EVENT_COUNT 96416.2583333     8027.03702508         90874        329003\n"
     ]
    }
   ],
   "source": [
    "ds.obs_table.info('stats')"
   ]
  },
  {
   "cell_type": "code",
   "execution_count": 5,
   "metadata": {},
   "outputs": [
    {
     "data": {
      "text/html": [
       "<i>ObservationTable length=20</i>\n",
       "<table id=\"table4474539144\" class=\"table-striped table-bordered table-condensed\">\n",
       "<thead><tr><th>OBS_ID</th><th>RA_PNT</th><th>DEC_PNT</th><th>GLON_PNT</th><th>GLAT_PNT</th><th>ZEN_PNT</th><th>ALT_PNT</th><th>AZ_PNT</th><th>ONTIME</th><th>LIVETIME</th><th>DEADC</th><th>TSTART</th><th>TSTOP</th><th>DATE_OBS</th><th>TIME_OBS</th><th>DATE_END</th><th>TIME_END</th><th>N_TELS</th><th>OBJECT</th><th>CALDB</th><th>IRF</th><th>EVENTS_FILENAME</th><th>EVENT_COUNT</th></tr></thead>\n",
       "<thead><tr><th>int64</th><th>float64</th><th>float64</th><th>float64</th><th>float64</th><th>float64</th><th>float64</th><th>int64</th><th>float64</th><th>float64</th><th>float64</th><th>float64</th><th>float64</th><th>str10</th><th>str8</th><th>str10</th><th>str8</th><th>int64</th><th>str14</th><th>str3</th><th>str13</th><th>str50</th><th>int64</th></tr></thead>\n",
       "<tr><td>510000</td><td>35.665000916</td><td>43.035499573</td><td>140.142934442</td><td>-16.7669311817</td><td>0.0</td><td>90.0</td><td>0</td><td>1800.0</td><td>1764.0</td><td>0.98000001907</td><td>662774400.0</td><td>662776192.0</td><td>2021-01-01</td><td>11:58:51</td><td>2021-01-01</td><td>12:28:51</td><td>0</td><td>AGN monitoring</td><td>1dc</td><td>North_z20_50h</td><td>1dc/1dc/data/baseline/agn/agn_baseline_510000.fits</td><td>94306</td></tr>\n",
       "<tr><td>510001</td><td>110.47200012</td><td>71.343399048</td><td>143.981073698</td><td>28.0173329781</td><td>0.0</td><td>90.0</td><td>0</td><td>1800.0</td><td>1764.0</td><td>0.98000001907</td><td>662776320.0</td><td>662778112.0</td><td>2021-01-01</td><td>12:30:51</td><td>2021-01-01</td><td>13:00:51</td><td>0</td><td>AGN monitoring</td><td>1dc</td><td>North_z40_50h</td><td>1dc/1dc/data/baseline/agn/agn_baseline_510001.fits</td><td>102550</td></tr>\n",
       "<tr><td>510002</td><td>186.227005</td><td>21.379600525</td><td>255.073605342</td><td>81.659884416</td><td>0.0</td><td>90.0</td><td>0</td><td>1800.0</td><td>1764.0</td><td>0.98000001907</td><td>662778240.0</td><td>662780032.0</td><td>2021-01-01</td><td>13:02:51</td><td>2021-01-01</td><td>13:32:51</td><td>0</td><td>AGN monitoring</td><td>1dc</td><td>North_z20_50h</td><td>1dc/1dc/data/baseline/agn/agn_baseline_510002.fits</td><td>110043</td></tr>\n",
       "<tr><td>510003</td><td>228.21749878</td><td>-9.106</td><td>351.290560535</td><td>40.1296513413</td><td>0.0</td><td>90.0</td><td>0</td><td>1800.0</td><td>1764.0</td><td>0.98000001907</td><td>662780160.0</td><td>662781952.0</td><td>2021-01-01</td><td>13:34:51</td><td>2021-01-01</td><td>14:04:51</td><td>0</td><td>AGN monitoring</td><td>1dc</td><td>North_z40_50h</td><td>1dc/1dc/data/baseline/agn/agn_baseline_510003.fits</td><td>122025</td></tr>\n",
       "<tr><td>510004</td><td>166.11959839</td><td>38.207298279</td><td>179.831720435</td><td>65.0362820701</td><td>0.0</td><td>90.0</td><td>0</td><td>1800.0</td><td>1764.0</td><td>0.98000001907</td><td>662782080.0</td><td>662783872.0</td><td>2021-01-01</td><td>14:06:51</td><td>2021-01-01</td><td>14:36:51</td><td>0</td><td>AGN monitoring</td><td>1dc</td><td>North_z20_50h</td><td>1dc/1dc/data/baseline/agn/agn_baseline_510004.fits</td><td>96144</td></tr>\n",
       "<tr><td>510005</td><td>194.05999756</td><td>-5.8046</td><td>305.128003257</td><td>57.04667004</td><td>0.0</td><td>90.0</td><td>0</td><td>1800.0</td><td>1764.0</td><td>0.98000001907</td><td>662784000.0</td><td>662785792.0</td><td>2021-01-01</td><td>14:38:51</td><td>2021-01-01</td><td>15:08:51</td><td>0</td><td>AGN monitoring</td><td>1dc</td><td>North_z40_50h</td><td>1dc/1dc/data/baseline/agn/agn_baseline_510005.fits</td><td>98200</td></tr>\n",
       "<tr><td>510006</td><td>95.73500061</td><td>33.428100586</td><td>179.947137322</td><td>9.15323001581</td><td>0.0</td><td>90.0</td><td>0</td><td>1800.0</td><td>1764.0</td><td>0.98000001907</td><td>662785920.0</td><td>662787712.0</td><td>2021-01-01</td><td>15:10:51</td><td>2021-01-01</td><td>15:40:51</td><td>0</td><td>AGN monitoring</td><td>1dc</td><td>North_z20_50h</td><td>1dc/1dc/data/baseline/agn/agn_baseline_510006.fits</td><td>91658</td></tr>\n",
       "<tr><td>510007</td><td>219.26879883</td><td>56.660400391</td><td>97.7140306841</td><td>54.9880666054</td><td>0.0</td><td>90.0</td><td>0</td><td>1800.0</td><td>1764.0</td><td>0.98000001907</td><td>662787840.0</td><td>662789632.0</td><td>2021-01-01</td><td>15:42:51</td><td>2021-01-01</td><td>16:12:51</td><td>0</td><td>AGN monitoring</td><td>1dc</td><td>North_z20_50h</td><td>1dc/1dc/data/baseline/agn/agn_baseline_510007.fits</td><td>91513</td></tr>\n",
       "<tr><td>510008</td><td>1.9469000101</td><td>47.154701233</td><td>115.270529969</td><td>-15.0666758952</td><td>0.0</td><td>90.0</td><td>0</td><td>1800.0</td><td>1764.0</td><td>0.98000001907</td><td>662789760.0</td><td>662791552.0</td><td>2021-01-01</td><td>16:14:51</td><td>2021-01-01</td><td>16:44:51</td><td>0</td><td>AGN monitoring</td><td>1dc</td><td>North_z20_50h</td><td>1dc/1dc/data/baseline/agn/agn_baseline_510008.fits</td><td>92055</td></tr>\n",
       "<tr><td>510009</td><td>12.671600342</td><td>-9.5104</td><td>122.31973606</td><td>-72.38125429</td><td>0.0</td><td>90.0</td><td>0</td><td>1800.0</td><td>1764.0</td><td>0.98000001907</td><td>662791680.0</td><td>662793472.0</td><td>2021-01-01</td><td>16:46:51</td><td>2021-01-01</td><td>17:16:51</td><td>0</td><td>AGN monitoring</td><td>1dc</td><td>North_z40_50h</td><td>1dc/1dc/data/baseline/agn/agn_baseline_510009.fits</td><td>98531</td></tr>\n",
       "<tr><td>510010</td><td>24.207899094</td><td>47.901298523</td><td>130.755637828</td><td>-14.2796848232</td><td>0.0</td><td>90.0</td><td>0</td><td>1800.0</td><td>1764.0</td><td>0.98000001907</td><td>662793600.0</td><td>662795392.0</td><td>2021-01-01</td><td>17:18:51</td><td>2021-01-01</td><td>17:48:51</td><td>0</td><td>AGN monitoring</td><td>1dc</td><td>North_z20_50h</td><td>1dc/1dc/data/baseline/agn/agn_baseline_510010.fits</td><td>91715</td></tr>\n",
       "<tr><td>510011</td><td>94.413299561</td><td>-17.2813</td><td>224.912833167</td><td>-15.086480015</td><td>0.0</td><td>90.0</td><td>0</td><td>1800.0</td><td>1764.0</td><td>0.98000001907</td><td>662795520.0</td><td>662797312.0</td><td>2021-01-01</td><td>17:50:51</td><td>2021-01-01</td><td>18:20:51</td><td>0</td><td>AGN monitoring</td><td>1dc</td><td>North_z40_50h</td><td>1dc/1dc/data/baseline/agn/agn_baseline_510011.fits</td><td>98463</td></tr>\n",
       "<tr><td>510012</td><td>121.36869812</td><td>75.57460022</td><td>138.894681914</td><td>30.7966325622</td><td>0.0</td><td>90.0</td><td>0</td><td>1800.0</td><td>1764.0</td><td>0.98000001907</td><td>662797440.0</td><td>662799232.0</td><td>2021-01-01</td><td>18:22:51</td><td>2021-01-01</td><td>18:52:51</td><td>0</td><td>AGN monitoring</td><td>1dc</td><td>North_z40_50h</td><td>1dc/1dc/data/baseline/agn/agn_baseline_510012.fits</td><td>99277</td></tr>\n",
       "<tr><td>510013</td><td>178.52479553</td><td>-0.1693</td><td>273.809665486</td><td>59.420949334</td><td>0.0</td><td>90.0</td><td>0</td><td>1800.0</td><td>1764.0</td><td>0.98000001907</td><td>662799360.0</td><td>662801152.0</td><td>2021-01-01</td><td>18:54:51</td><td>2021-01-01</td><td>19:24:51</td><td>0</td><td>AGN monitoring</td><td>1dc</td><td>North_z20_50h</td><td>1dc/1dc/data/baseline/agn/agn_baseline_510013.fits</td><td>91753</td></tr>\n",
       "<tr><td>510014</td><td>185.40209961</td><td>28.247299194</td><td>201.59266824</td><td>83.3035800558</td><td>0.0</td><td>90.0</td><td>0</td><td>1800.0</td><td>1764.0</td><td>0.98000001907</td><td>662801280.0</td><td>662803072.0</td><td>2021-01-01</td><td>19:26:51</td><td>2021-01-01</td><td>19:56:51</td><td>0</td><td>AGN monitoring</td><td>1dc</td><td>North_z20_50h</td><td>1dc/1dc/data/baseline/agn/agn_baseline_510014.fits</td><td>101367</td></tr>\n",
       "<tr><td>510015</td><td>187.58590698</td><td>25.376899719</td><td>232.07022864</td><td>84.9571427298</td><td>0.0</td><td>90.0</td><td>0</td><td>1800.0</td><td>1764.0</td><td>0.98000001907</td><td>662803200.0</td><td>662804992.0</td><td>2021-01-01</td><td>19:58:51</td><td>2021-01-01</td><td>20:28:51</td><td>0</td><td>AGN monitoring</td><td>1dc</td><td>North_z20_50h</td><td>1dc/1dc/data/baseline/agn/agn_baseline_510015.fits</td><td>92430</td></tr>\n",
       "<tr><td>510016</td><td>206.00079346</td><td>-17.3806</td><td>320.39681664</td><td>43.7013573408</td><td>0.0</td><td>90.0</td><td>0</td><td>1800.0</td><td>1764.0</td><td>0.98000001907</td><td>662805120.0</td><td>662806912.0</td><td>2021-01-01</td><td>20:30:51</td><td>2021-01-01</td><td>21:00:51</td><td>0</td><td>AGN monitoring</td><td>1dc</td><td>North_z40_50h</td><td>1dc/1dc/data/baseline/agn/agn_baseline_510016.fits</td><td>98548</td></tr>\n",
       "<tr><td>510017</td><td>226.09509277</td><td>10.488300323</td><td>11.3651327304</td><td>54.5848511074</td><td>0.0</td><td>90.0</td><td>0</td><td>1800.0</td><td>1764.0</td><td>0.98000001907</td><td>662807040.0</td><td>662808832.0</td><td>2021-01-01</td><td>21:02:51</td><td>2021-01-01</td><td>21:32:51</td><td>0</td><td>AGN monitoring</td><td>1dc</td><td>North_z20_50h</td><td>1dc/1dc/data/baseline/agn/agn_baseline_510017.fits</td><td>91636</td></tr>\n",
       "<tr><td>510018</td><td>228.06440735</td><td>2.0739998817</td><td>2.37542045991</td><td>48.0073662873</td><td>0.0</td><td>90.0</td><td>0</td><td>1800.0</td><td>1764.0</td><td>0.98000001907</td><td>662808960.0</td><td>662810752.0</td><td>2021-01-01</td><td>21:34:51</td><td>2021-01-01</td><td>22:04:51</td><td>0</td><td>AGN monitoring</td><td>1dc</td><td>North_z20_50h</td><td>1dc/1dc/data/baseline/agn/agn_baseline_510018.fits</td><td>91829</td></tr>\n",
       "<tr><td>510019</td><td>259.79818726</td><td>17.750200272</td><td>39.5206959846</td><td>28.1018687705</td><td>0.0</td><td>90.0</td><td>0</td><td>1800.0</td><td>1764.0</td><td>0.98000001907</td><td>662810880.0</td><td>662812672.0</td><td>2021-01-01</td><td>22:06:51</td><td>2021-01-01</td><td>22:36:51</td><td>0</td><td>AGN monitoring</td><td>1dc</td><td>North_z20_50h</td><td>1dc/1dc/data/baseline/agn/agn_baseline_510019.fits</td><td>91620</td></tr>\n",
       "</table>"
      ],
      "text/plain": [
       "<ObservationTable length=20>\n",
       "OBS_ID    RA_PNT    ... EVENT_COUNT\n",
       "int64    float64    ...    int64   \n",
       "------ ------------ ... -----------\n",
       "510000 35.665000916 ...       94306\n",
       "510001 110.47200012 ...      102550\n",
       "510002   186.227005 ...      110043\n",
       "510003 228.21749878 ...      122025\n",
       "510004 166.11959839 ...       96144\n",
       "510005 194.05999756 ...       98200\n",
       "510006  95.73500061 ...       91658\n",
       "510007 219.26879883 ...       91513\n",
       "510008 1.9469000101 ...       92055\n",
       "510009 12.671600342 ...       98531\n",
       "510010 24.207899094 ...       91715\n",
       "510011 94.413299561 ...       98463\n",
       "510012 121.36869812 ...       99277\n",
       "510013 178.52479553 ...       91753\n",
       "510014 185.40209961 ...      101367\n",
       "510015 187.58590698 ...       92430\n",
       "510016 206.00079346 ...       98548\n",
       "510017 226.09509277 ...       91636\n",
       "510018 228.06440735 ...       91829\n",
       "510019 259.79818726 ...       91620"
      ]
     },
     "execution_count": 5,
     "metadata": {},
     "output_type": "execute_result"
    }
   ],
   "source": [
    "ds.obs_table[:20]"
   ]
  },
  {
   "cell_type": "code",
   "execution_count": 6,
   "metadata": {},
   "outputs": [
    {
     "name": "stdout",
     "output_type": "stream",
     "text": [
      "<HDUIndexTable length=11520>\n",
      "   name   dtype\n",
      "--------- -----\n",
      "   OBS_ID int64\n",
      " HDU_TYPE  str6\n",
      "HDU_CLASS str10\n",
      " FILE_DIR str42\n",
      "FILE_NAME str24\n",
      " HDU_NAME str21\n"
     ]
    }
   ],
   "source": [
    "ds.hdu_table.info()"
   ]
  },
  {
   "cell_type": "code",
   "execution_count": 7,
   "metadata": {},
   "outputs": [
    {
     "name": "stdout",
     "output_type": "stream",
     "text": [
      "<HDUIndexTable length=11520>\n",
      "   name     mean        std       min    max  \n",
      "--------- -------- ------------- ------ ------\n",
      "   OBS_ID 510959.5 554.256183246 510000 511919\n",
      " HDU_TYPE       --            --     --     --\n",
      "HDU_CLASS       --            --     --     --\n",
      " FILE_DIR       --            --     --     --\n",
      "FILE_NAME       --            --     --     --\n",
      " HDU_NAME       --            --     --     --\n"
     ]
    }
   ],
   "source": [
    "ds.hdu_table.info('stats')"
   ]
  },
  {
   "cell_type": "code",
   "execution_count": 8,
   "metadata": {},
   "outputs": [
    {
     "data": {
      "text/html": [
       "<i>HDUIndexTable length=20</i>\n",
       "<table id=\"table4417087696\" class=\"table-striped table-bordered table-condensed\">\n",
       "<thead><tr><th>OBS_ID</th><th>HDU_TYPE</th><th>HDU_CLASS</th><th>FILE_DIR</th><th>FILE_NAME</th><th>HDU_NAME</th></tr></thead>\n",
       "<thead><tr><th>int64</th><th>str6</th><th>str10</th><th>str42</th><th>str24</th><th>str21</th></tr></thead>\n",
       "<tr><td>510000</td><td>events</td><td>events</td><td>../../data/baseline/agn</td><td>agn_baseline_510000.fits</td><td>EVENTS</td></tr>\n",
       "<tr><td>510000</td><td>gti</td><td>gti</td><td>../../data/baseline/agn</td><td>agn_baseline_510000.fits</td><td>EVENTS</td></tr>\n",
       "<tr><td>510000</td><td>aeff</td><td>aeff_2d</td><td>../../caldb/data/cta/1dc/bcf/North_z20_50h</td><td>irf_file.fits</td><td>EFFECTIVE AREA</td></tr>\n",
       "<tr><td>510000</td><td>edisp</td><td>edisp_2d</td><td>../../caldb/data/cta/1dc/bcf/North_z20_50h</td><td>irf_file.fits</td><td>ENERGY DISPERSION</td></tr>\n",
       "<tr><td>510000</td><td>psf</td><td>psf_3gauss</td><td>../../caldb/data/cta/1dc/bcf/North_z20_50h</td><td>irf_file.fits</td><td>POINT SPREAD FUNCTION</td></tr>\n",
       "<tr><td>510000</td><td>bkg</td><td>bkg_3d</td><td>../../caldb/data/cta/1dc/bcf/North_z20_50h</td><td>irf_file.fits</td><td>BACKGROUND</td></tr>\n",
       "<tr><td>510001</td><td>events</td><td>events</td><td>../../data/baseline/agn</td><td>agn_baseline_510001.fits</td><td>EVENTS</td></tr>\n",
       "<tr><td>510001</td><td>gti</td><td>gti</td><td>../../data/baseline/agn</td><td>agn_baseline_510001.fits</td><td>EVENTS</td></tr>\n",
       "<tr><td>510001</td><td>aeff</td><td>aeff_2d</td><td>../../caldb/data/cta/1dc/bcf/North_z40_50h</td><td>irf_file.fits</td><td>EFFECTIVE AREA</td></tr>\n",
       "<tr><td>510001</td><td>edisp</td><td>edisp_2d</td><td>../../caldb/data/cta/1dc/bcf/North_z40_50h</td><td>irf_file.fits</td><td>ENERGY DISPERSION</td></tr>\n",
       "<tr><td>510001</td><td>psf</td><td>psf_3gauss</td><td>../../caldb/data/cta/1dc/bcf/North_z40_50h</td><td>irf_file.fits</td><td>POINT SPREAD FUNCTION</td></tr>\n",
       "<tr><td>510001</td><td>bkg</td><td>bkg_3d</td><td>../../caldb/data/cta/1dc/bcf/North_z40_50h</td><td>irf_file.fits</td><td>BACKGROUND</td></tr>\n",
       "<tr><td>510002</td><td>events</td><td>events</td><td>../../data/baseline/agn</td><td>agn_baseline_510002.fits</td><td>EVENTS</td></tr>\n",
       "<tr><td>510002</td><td>gti</td><td>gti</td><td>../../data/baseline/agn</td><td>agn_baseline_510002.fits</td><td>EVENTS</td></tr>\n",
       "<tr><td>510002</td><td>aeff</td><td>aeff_2d</td><td>../../caldb/data/cta/1dc/bcf/North_z20_50h</td><td>irf_file.fits</td><td>EFFECTIVE AREA</td></tr>\n",
       "<tr><td>510002</td><td>edisp</td><td>edisp_2d</td><td>../../caldb/data/cta/1dc/bcf/North_z20_50h</td><td>irf_file.fits</td><td>ENERGY DISPERSION</td></tr>\n",
       "<tr><td>510002</td><td>psf</td><td>psf_3gauss</td><td>../../caldb/data/cta/1dc/bcf/North_z20_50h</td><td>irf_file.fits</td><td>POINT SPREAD FUNCTION</td></tr>\n",
       "<tr><td>510002</td><td>bkg</td><td>bkg_3d</td><td>../../caldb/data/cta/1dc/bcf/North_z20_50h</td><td>irf_file.fits</td><td>BACKGROUND</td></tr>\n",
       "<tr><td>510003</td><td>events</td><td>events</td><td>../../data/baseline/agn</td><td>agn_baseline_510003.fits</td><td>EVENTS</td></tr>\n",
       "<tr><td>510003</td><td>gti</td><td>gti</td><td>../../data/baseline/agn</td><td>agn_baseline_510003.fits</td><td>EVENTS</td></tr>\n",
       "</table>"
      ],
      "text/plain": [
       "<HDUIndexTable length=20>\n",
       "OBS_ID HDU_TYPE HDU_CLASS  ...        FILE_NAME                HDU_NAME      \n",
       "int64    str6     str10    ...          str24                   str21        \n",
       "------ -------- ---------- ... ------------------------ ---------------------\n",
       "510000   events     events ... agn_baseline_510000.fits                EVENTS\n",
       "510000      gti        gti ... agn_baseline_510000.fits                EVENTS\n",
       "510000     aeff    aeff_2d ...            irf_file.fits        EFFECTIVE AREA\n",
       "510000    edisp   edisp_2d ...            irf_file.fits     ENERGY DISPERSION\n",
       "510000      psf psf_3gauss ...            irf_file.fits POINT SPREAD FUNCTION\n",
       "510000      bkg     bkg_3d ...            irf_file.fits            BACKGROUND\n",
       "510001   events     events ... agn_baseline_510001.fits                EVENTS\n",
       "510001      gti        gti ... agn_baseline_510001.fits                EVENTS\n",
       "510001     aeff    aeff_2d ...            irf_file.fits        EFFECTIVE AREA\n",
       "510001    edisp   edisp_2d ...            irf_file.fits     ENERGY DISPERSION\n",
       "510001      psf psf_3gauss ...            irf_file.fits POINT SPREAD FUNCTION\n",
       "510001      bkg     bkg_3d ...            irf_file.fits            BACKGROUND\n",
       "510002   events     events ... agn_baseline_510002.fits                EVENTS\n",
       "510002      gti        gti ... agn_baseline_510002.fits                EVENTS\n",
       "510002     aeff    aeff_2d ...            irf_file.fits        EFFECTIVE AREA\n",
       "510002    edisp   edisp_2d ...            irf_file.fits     ENERGY DISPERSION\n",
       "510002      psf psf_3gauss ...            irf_file.fits POINT SPREAD FUNCTION\n",
       "510002      bkg     bkg_3d ...            irf_file.fits            BACKGROUND\n",
       "510003   events     events ... agn_baseline_510003.fits                EVENTS\n",
       "510003      gti        gti ... agn_baseline_510003.fits                EVENTS"
      ]
     },
     "execution_count": 8,
     "metadata": {},
     "output_type": "execute_result"
    }
   ],
   "source": [
    "ds.hdu_table[:20]"
   ]
  },
  {
   "cell_type": "markdown",
   "metadata": {},
   "source": [
    "## Check IRF values\n",
    "\n",
    "Now let's look at which values appear for IRF in the OBS and HDU index table ..."
   ]
  },
  {
   "cell_type": "code",
   "execution_count": 9,
   "metadata": {},
   "outputs": [],
   "source": [
    "ds = DataStore.from_dir('1dc/1dc/index/all')"
   ]
  },
  {
   "cell_type": "code",
   "execution_count": 10,
   "metadata": {},
   "outputs": [],
   "source": [
    "irf = ds.obs_table.to_pandas()['IRF']"
   ]
  },
  {
   "cell_type": "code",
   "execution_count": 11,
   "metadata": {},
   "outputs": [
    {
     "data": {
      "text/plain": [
       "South_z20_50h    3428\n",
       "North_z20_50h    2760\n",
       "North_z40_50h    1166\n",
       "South_z40_50h     778\n",
       "Name: IRF, dtype: int64"
      ]
     },
     "execution_count": 11,
     "metadata": {},
     "output_type": "execute_result"
    }
   ],
   "source": [
    "irf.value_counts()"
   ]
  },
  {
   "cell_type": "code",
   "execution_count": 12,
   "metadata": {},
   "outputs": [],
   "source": [
    "irf2 = ds.hdu_table.to_pandas()\n",
    "irf2 = irf2.query('HDU_TYPE == \"aeff\"')\n",
    "irf2 = irf2['FILE_DIR'].str.split('/').apply(lambda _: _[-1])"
   ]
  },
  {
   "cell_type": "code",
   "execution_count": 13,
   "metadata": {},
   "outputs": [
    {
     "data": {
      "text/plain": [
       "South_z20_50h    3428\n",
       "North_z20_50h    2760\n",
       "North_z40_50h    1166\n",
       "South_z40_50h     778\n",
       "Name: FILE_DIR, dtype: int64"
      ]
     },
     "execution_count": 13,
     "metadata": {},
     "output_type": "execute_result"
    }
   ],
   "source": [
    "irf2.value_counts()"
   ]
  },
  {
   "cell_type": "markdown",
   "metadata": {},
   "source": [
    "## Check loading\n",
    "\n",
    "Try to load all info for some of the runs ... should work for all runs."
   ]
  },
  {
   "cell_type": "code",
   "execution_count": 14,
   "metadata": {},
   "outputs": [
    {
     "data": {
      "text/plain": [
       "array([510000, 510500, 511000, 511500, 210080, 210580, 211080, 310309,\n",
       "       310809, 311309, 110138, 110638, 111138, 111638, 112138, 112638,\n",
       "       113138])"
      ]
     },
     "execution_count": 14,
     "metadata": {},
     "output_type": "execute_result"
    }
   ],
   "source": [
    "ds = DataStore.from_dir('1dc/1dc/index/all')\n",
    "obs_ids = ds.obs_table['OBS_ID'].data[::500]\n",
    "obs_ids"
   ]
  },
  {
   "cell_type": "code",
   "execution_count": 15,
   "metadata": {},
   "outputs": [
    {
     "name": "stdout",
     "output_type": "stream",
     "text": [
      "loading 510000\n",
      "events 94306\n",
      "aeff 1303965.5 m2\n",
      "edisp 16039.921875\n",
      "psf 0.058499993105930244\n",
      "bkg 0.4422248601913452 1 / (MeV s sr)\n",
      "loading 510500\n",
      "events 92214\n",
      "aeff 1303965.5 m2\n",
      "edisp 16039.921875\n",
      "psf 0.058499993105930244\n",
      "bkg 0.4422248601913452 1 / (MeV s sr)\n",
      "loading 511000\n",
      "events 98852\n",
      "aeff 1726487.75 m2\n",
      "edisp 40505.125\n",
      "psf 0.05799999268419844\n",
      "bkg 0.23380520939826965 1 / (MeV s sr)\n",
      "loading 511500\n",
      "events 98615\n",
      "aeff 1726487.75 m2\n",
      "edisp 40505.125\n",
      "psf 0.05799999268419844\n",
      "bkg 0.23380520939826965 1 / (MeV s sr)\n",
      "loading 210080\n",
      "events 81928\n",
      "aeff 5371581.0 m2\n",
      "edisp 10595.85546875\n",
      "psf 0.050999992403622255\n",
      "bkg 0.4214513599872589 1 / (MeV s sr)\n",
      "loading 210580\n",
      "events 82078\n",
      "aeff 5371581.0 m2\n",
      "edisp 10595.85546875\n",
      "psf 0.050999992403622255\n",
      "bkg 0.4214513599872589 1 / (MeV s sr)\n",
      "loading 211080\n",
      "events 76178\n",
      "aeff 1303965.5 m2\n",
      "edisp 16039.921875\n",
      "psf 0.058499993105930244\n",
      "bkg 0.4422248601913452 1 / (MeV s sr)\n",
      "loading 310309\n",
      "events 108178\n",
      "aeff 5371581.0 m2\n",
      "edisp 10595.85546875\n",
      "psf 0.050999992403622255\n",
      "bkg 0.4214513599872589 1 / (MeV s sr)\n",
      "loading 310809\n",
      "events 107963\n",
      "aeff 5371581.0 m2\n",
      "edisp 10595.85546875\n",
      "psf 0.050999992403622255\n",
      "bkg 0.4214513599872589 1 / (MeV s sr)\n",
      "loading 311309\n",
      "events 98921\n",
      "aeff 5371581.0 m2\n",
      "edisp 10595.85546875\n",
      "psf 0.050999992403622255\n",
      "bkg 0.4214513599872589 1 / (MeV s sr)\n",
      "loading 110138\n",
      "events 109541\n",
      "aeff 7238342.0 m2\n",
      "edisp 27173.3203125\n",
      "psf 0.05149999282535407\n",
      "bkg 0.2585585415363312 1 / (MeV s sr)\n",
      "loading 110638\n",
      "events 100864\n",
      "aeff 5371581.0 m2\n",
      "edisp 10595.85546875\n",
      "psf 0.050999992403622255\n",
      "bkg 0.4214513599872589 1 / (MeV s sr)\n",
      "loading 111138\n",
      "events 103113\n",
      "aeff 5371581.0 m2\n",
      "edisp 10595.85546875\n",
      "psf 0.050999992403622255\n",
      "bkg 0.4214513599872589 1 / (MeV s sr)\n",
      "loading 111638\n",
      "events 101312\n",
      "aeff 5371581.0 m2\n",
      "edisp 10595.85546875\n",
      "psf 0.050999992403622255\n",
      "bkg 0.4214513599872589 1 / (MeV s sr)\n",
      "loading 112138\n",
      "events 92079\n",
      "aeff 1303965.5 m2\n",
      "edisp 16039.921875\n",
      "psf 0.058499993105930244\n",
      "bkg 0.4422248601913452 1 / (MeV s sr)\n",
      "loading 112638\n",
      "events 92293\n",
      "aeff 1303965.5 m2\n",
      "edisp 16039.921875\n",
      "psf 0.058499993105930244\n",
      "bkg 0.4422248601913452 1 / (MeV s sr)\n",
      "loading 113138\n",
      "events 91877\n",
      "aeff 1303965.5 m2\n",
      "edisp 16039.921875\n",
      "psf 0.058499993105930244\n",
      "bkg 0.4422248601913452 1 / (MeV s sr)\n"
     ]
    }
   ],
   "source": [
    "for obs_id in obs_ids:\n",
    "    print('loading', obs_id)\n",
    "    obs = ds.obs(obs_id)\n",
    "    print('events', len(obs.events.table))\n",
    "    print('aeff', obs.aeff.data.data.max())\n",
    "    print('edisp', obs.edisp.data.data.max())\n",
    "    print('psf', float(obs.psf.containment_radius(energy=1*u.TeV, theta=0*u.deg).deg))\n",
    "    print('bkg', obs.bkg.data.data.max())"
   ]
  },
  {
   "cell_type": "code",
   "execution_count": 16,
   "metadata": {},
   "outputs": [
    {
     "name": "stdout",
     "output_type": "stream",
     "text": [
      "\n",
      "Data store summary info:\n",
      "name: noname\n",
      "\n",
      "HDU index table:\n",
      "BASE_DIR: 1dc/1dc/index/all\n",
      "Rows: 48792\n",
      "OBS_ID: 110000 -- 511919\n",
      "HDU_TYPE: ['aeff', 'bkg', 'edisp', 'events', 'gti', 'psf']\n",
      "HDU_CLASS: ['aeff_2d', 'bkg_3d', 'edisp_2d', 'events', 'gti', 'psf_3gauss']\n",
      "\n",
      "Observation table:\n",
      "Number of observations: 8132\n"
     ]
    }
   ],
   "source": [
    "ds.info()"
   ]
  },
  {
   "cell_type": "markdown",
   "metadata": {},
   "source": [
    "## Sorted?\n",
    "\n",
    "Check if OBS_ID is sorted ..."
   ]
  },
  {
   "cell_type": "code",
   "execution_count": 17,
   "metadata": {},
   "outputs": [
    {
     "name": "stdout",
     "output_type": "stream",
     "text": [
      "checking agn\n",
      "True\n",
      "True\n",
      "checking gps\n",
      "True\n",
      "True\n",
      "checking gc\n",
      "True\n",
      "True\n",
      "checking egal\n",
      "True\n",
      "True\n",
      "checking agn\n",
      "True\n",
      "True\n"
     ]
    }
   ],
   "source": [
    "names = 'agn', 'gps', 'gc', 'egal', 'agn'\n",
    "for name in names:\n",
    "    print('checking', name)\n",
    "    ds = DataStore.from_dir('1dc/1dc/index/' + name)\n",
    "    obs_id = ds.obs_table['OBS_ID']\n",
    "    print(np.all(np.diff(obs_id) > 0))\n",
    "    \n",
    "    obs_id = ds.hdu_table['OBS_ID']\n",
    "    print(np.all(np.diff(obs_id) >= 0))"
   ]
  },
  {
   "cell_type": "code",
   "execution_count": null,
   "metadata": {},
   "outputs": [],
   "source": []
  }
 ],
 "metadata": {
  "kernelspec": {
   "display_name": "Python 3",
   "language": "python",
   "name": "python3"
  },
  "language_info": {
   "codemirror_mode": {
    "name": "ipython",
    "version": 3
   },
   "file_extension": ".py",
   "mimetype": "text/x-python",
   "name": "python",
   "nbconvert_exporter": "python",
   "pygments_lexer": "ipython3",
   "version": "3.6.3"
  }
 },
 "nbformat": 4,
 "nbformat_minor": 2
}
