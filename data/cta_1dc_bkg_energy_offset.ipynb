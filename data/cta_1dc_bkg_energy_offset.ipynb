{
 "cells": [
  {
   "cell_type": "markdown",
   "metadata": {},
   "source": [
    "# CTA 1DC background energy distribution\n",
    "\n",
    "\n",
    "This is my attempt to understand the background event energy distribution for CTA 1DC simulated data.\n",
    "\n",
    "See https://forge.in2p3.fr/boards/236/topics/1824?r=2057#message-2057\n",
    "\n",
    "To understand it it's crucial to also look at event offset in the field of view, so we'll do that.\n",
    "\n",
    "Also, we'll just look at one IRF: South_z20_50h.\n",
    "\n",
    "(presumably the effects will be very similar for the others as well, left as an exercise for the reader)"
   ]
  },
  {
   "cell_type": "code",
   "execution_count": 74,
   "metadata": {
    "collapsed": true
   },
   "outputs": [],
   "source": [
    "%matplotlib inline\n",
    "import matplotlib.pyplot as plt\n",
    "import matplotlib.colors as colors"
   ]
  },
  {
   "cell_type": "code",
   "execution_count": 85,
   "metadata": {
    "collapsed": true
   },
   "outputs": [],
   "source": [
    "import numpy as np\n",
    "from astropy.table import Table, vstack\n",
    "from gammapy.data import DataStore"
   ]
  },
  {
   "cell_type": "code",
   "execution_count": 96,
   "metadata": {
    "collapsed": true
   },
   "outputs": [],
   "source": [
    "# Parameters used throughout this notebook\n",
    "CTADATA = '/Users/deil/work/cta-dc/data/1dc/1dc/'\n",
    "irf_name = 'South_z20_50h'\n",
    "n_obs = 10 # Number of observations to use for events\n",
    "# Histogram binning\n",
    "energy_bins = 10 ** np.linspace(-2, 2, 100)\n",
    "offset_bins = np.arange(0, 5, 0.1)"
   ]
  },
  {
   "cell_type": "markdown",
   "metadata": {},
   "source": [
    "## Actual distribution of events\n",
    "\n",
    "We load some event data for `South_z20_50h`, select only background events and compute the `n_obs` distribution of observed events in log(energy) and offset bins."
   ]
  },
  {
   "cell_type": "code",
   "execution_count": 97,
   "metadata": {},
   "outputs": [],
   "source": [
    "data_store = DataStore.from_dir(CTADATA + 'index/all')\n",
    "# data_store.info()"
   ]
  },
  {
   "cell_type": "code",
   "execution_count": 98,
   "metadata": {},
   "outputs": [],
   "source": [
    "mask = data_store.obs_table['IRF'] == irf_name\n",
    "obs_ids = data_store.obs_table[mask]['OBS_ID'][:n_obs].data"
   ]
  },
  {
   "cell_type": "code",
   "execution_count": 99,
   "metadata": {},
   "outputs": [
    {
     "name": "stdout",
     "output_type": "stream",
     "text": [
      "816757\n"
     ]
    }
   ],
   "source": [
    "# %%time\n",
    "# Make one table with all background events (MD_ID == 1)\n",
    "# only keeping the info we need (DETX, DETY, ENERGY)\n",
    "tables = []\n",
    "for obs_id in obs_ids:\n",
    "    t = data_store.obs(obs_id).events.table\n",
    "    t = t[t['MC_ID'] == 1]\n",
    "    t = t[['ENERGY', 'DETX', 'DETY']]\n",
    "    tables.append(t)\n",
    "\n",
    "table = vstack(tables, metadata_conflicts='silent')\n",
    "table['OFFSET'] = np.sqrt(table['DETX'] ** 2 + table['DETY'] ** 2)\n",
    "print(len(table))"
   ]
  },
  {
   "cell_type": "code",
   "execution_count": 100,
   "metadata": {},
   "outputs": [],
   "source": [
    "# Compute energy-offset histogram n_obs (number of observed events)\n",
    "n_obs = np.histogram2d(\n",
    "    x=table['ENERGY'], y=table['OFFSET'],\n",
    "    bins=(energy_bins, offset_bins),\n",
    ")[0]"
   ]
  },
  {
   "cell_type": "code",
   "execution_count": 101,
   "metadata": {},
   "outputs": [
    {
     "data": {
      "text/plain": [
       "<matplotlib.text.Text at 0x10fb19438>"
      ]
     },
     "execution_count": 101,
     "metadata": {},
     "output_type": "execute_result"
    },
    {
     "data": {
      "image/png": "[encoded data removed]",
      "text/plain": [
       "<matplotlib.figure.Figure at 0x114266358>"
      ]
     },
     "metadata": {},
     "output_type": "display_data"
    }
   ],
   "source": [
    "val = n_obs / n_obs.max()\n",
    "norm = colors.LogNorm()\n",
    "plt.pcolormesh(energy_bins, offset_bins,  val.T, norm=norm)\n",
    "plt.semilogx()\n",
    "plt.colorbar()\n",
    "plt.xlabel('Energy (TeV)')\n",
    "plt.ylabel('Offset (deg)')"
   ]
  },
  {
   "cell_type": "markdown",
   "metadata": {},
   "source": [
    "## Expected distribution from background model\n",
    "\n",
    "In this section, we load the FITS background model and compute the `n_pred` distribution of number of predicted backgorund events in log(energy) and offset bins (same histogram binning as for `n_obs` above)."
   ]
  },
  {
   "cell_type": "code",
   "execution_count": 102,
   "metadata": {},
   "outputs": [
    {
     "data": {
      "text/html": [
       "&lt;Table length=1&gt;\n",
       "<table id=\"table4654301024\" class=\"table-striped table-bordered table-condensed\">\n",
       "<thead><tr><th>DETX_LO [36]</th><th>DETX_HI [36]</th><th>DETY_LO [36]</th><th>DETY_HI [36]</th><th>ENERG_LO [21]</th><th>ENERG_HI [21]</th><th>BGD [21,36,36]</th></tr></thead>\n",
       "<thead><tr><th>deg</th><th>deg</th><th>deg</th><th>deg</th><th>TeV</th><th>TeV</th><th>1/s/MeV/sr</th></tr></thead>\n",
       "<thead><tr><th>float32</th><th>float32</th><th>float32</th><th>float32</th><th>float32</th><th>float32</th><th>float32</th></tr></thead>\n",
       "<tr><td>-6.0 .. 5.66667</td><td>-5.66667 .. 6.0</td><td>-6.0 .. 5.66667</td><td>-5.66667 .. 6.0</td><td>0.0125893 .. 125.893</td><td>0.0199526 .. 199.526</td><td>0.0 .. 0.0</td></tr>\n",
       "</table>"
      ],
      "text/plain": [
       "<Table length=1>\n",
       "  DETX_LO [36]    DETX_HI [36]  ...    ENERG_HI [21]     BGD [21,36,36]\n",
       "      deg             deg       ...         TeV            1/s/MeV/sr  \n",
       "    float32         float32     ...       float32           float32    \n",
       "--------------- --------------- ... -------------------- --------------\n",
       "-6.0 .. 5.66667 -5.66667 .. 6.0 ... 0.0199526 .. 199.526     0.0 .. 0.0"
      ]
     },
     "execution_count": 102,
     "metadata": {},
     "output_type": "execute_result"
    }
   ],
   "source": [
    "from gammapy.data import \n",
    "irf_file = CTADATA + '/caldb/data/cta/1dc/bcf/' + irf_name + '/irf_file.fits'\n",
    "table = Table.read(irf_file, hdu='BACKGROUND')\n",
    "table\n",
    "# Columns:\n",
    "# BGD float32 (21, 36, 36) 1/s/MeV/sr\n",
    "# ENERG_LO float32        (21,)        TeV\n",
    "# DETX_LO float32        (36,)        deg\n",
    "# DETY_LO float32        (36,)        deg\n",
    "\n",
    "# dety = table['DETY_LO'].data.squeeze()[18]\n",
    "# print(dety)  # this shows dety == 0.0\n",
    "\n",
    "# for idx_detx in [18, 21, 22, 23, 24, 25, 26, 27]:\n",
    "#     detx = table['DETX_LO'].data.squeeze()[idx_detx]\n",
    "#     energy = table['ENERG_LO'].data.squeeze()\n",
    "#     bkg = table['BGD'].data.squeeze()[:, idx_detx, 18]\n",
    "#     val = bkg * energy  # this is to account for equal-width log-energy bins.\n",
    "#     val /= val.sum()\n",
    "#     txt = f'offset={detx:.1f}'\n",
    "#     plt.plot(energy, val, label=txt)\n"
   ]
  },
  {
   "cell_type": "code",
   "execution_count": 46,
   "metadata": {
    "collapsed": true
   },
   "outputs": [],
   "source": [
    "plt.pcolormesh??"
   ]
  },
  {
   "cell_type": "markdown",
   "metadata": {},
   "source": [
    "## Comparison observed vs predicted\n",
    "\n",
    "In this section we compare `n_obs` versus `n_pred`."
   ]
  },
  {
   "cell_type": "code",
   "execution_count": null,
   "metadata": {
    "collapsed": true
   },
   "outputs": [],
   "source": []
  }
 ],
 "metadata": {
  "kernelspec": {
   "display_name": "Python 3",
   "language": "python",
   "name": "python3"
  },
  "language_info": {
   "codemirror_mode": {
    "name": "ipython",
    "version": 3
   },
   "file_extension": ".py",
   "mimetype": "text/x-python",
   "name": "python",
   "nbconvert_exporter": "python",
   "pygments_lexer": "ipython3",
   "version": "3.6.2"
  }
 },
 "nbformat": 4,
 "nbformat_minor": 2
}
